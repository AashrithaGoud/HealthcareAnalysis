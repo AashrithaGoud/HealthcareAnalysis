{
 "cells": [
  {
   "cell_type": "code",
   "execution_count": 0,
   "metadata": {
    "application/vnd.databricks.v1+cell": {
     "cellMetadata": {
      "byteLimit": 2048000,
      "rowLimit": 10000
     },
     "inputWidgets": {},
     "nuid": "57c068d6-33c2-4759-a32a-bf6da9573c44",
     "showTitle": false,
     "tableResultSettingsMap": {},
     "title": ""
    }
   },
   "outputs": [],
   "source": [
    "from pyspark.sql import DataFrame"
   ]
  },
  {
   "cell_type": "code",
   "execution_count": 0,
   "metadata": {
    "application/vnd.databricks.v1+cell": {
     "cellMetadata": {
      "byteLimit": 2048000,
      "rowLimit": 10000
     },
     "inputWidgets": {},
     "nuid": "09824edb-7bd5-4b60-b6d6-4c7c71f4e931",
     "showTitle": false,
     "tableResultSettingsMap": {},
     "title": ""
    }
   },
   "outputs": [],
   "source": [
    "class Extract:\n",
    "    def __init__(self, file_path):\n",
    "        self.file_path = file_path\n",
    "    \n",
    "    def extract_data(self)-> DataFrame:\n",
    "        healthcare_df = spark.read.format(\"csv\").option(\"header\", True).load(self.file_path)\n",
    "        \n",
    "        return healthcare_df\n",
    "\n"
   ]
  }
 ],
 "metadata": {
  "application/vnd.databricks.v1+notebook": {
   "computePreferences": null,
   "dashboards": [],
   "environmentMetadata": {
    "base_environment": "",
    "client": "1"
   },
   "language": "python",
   "notebookMetadata": {
    "pythonIndentUnit": 4
   },
   "notebookName": "Extract",
   "widgets": {}
  }
 },
 "nbformat": 4,
 "nbformat_minor": 0
}
