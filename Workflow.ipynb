{
 "cells": [
  {
   "cell_type": "markdown",
   "metadata": {
    "application/vnd.databricks.v1+cell": {
     "cellMetadata": {
      "byteLimit": 2048000,
      "rowLimit": 10000
     },
     "inputWidgets": {},
     "nuid": "92f99905-6197-4186-ba94-85cc9714277a",
     "showTitle": false,
     "tableResultSettingsMap": {},
     "title": ""
    }
   },
   "source": [
    "- What is the treatment success rate by treatment type?\n",
    "- What is the treatment duration by disease type?\n",
    "- What is the average treatment cost by health condition (disease name)?\n",
    "- What is the success rate of treatments by age group?\n",
    "- What is the total count of the deceased outcome by disease type?"
   ]
  },
  {
   "cell_type": "code",
   "execution_count": 0,
   "metadata": {
    "application/vnd.databricks.v1+cell": {
     "cellMetadata": {
      "byteLimit": 2048000,
      "rowLimit": 10000
     },
     "inputWidgets": {},
     "nuid": "449355d4-278c-4b58-ae59-6af1c9a1b537",
     "showTitle": false,
     "tableResultSettingsMap": {},
     "title": ""
    }
   },
   "outputs": [],
   "source": [
    "%run \"./Extract\""
   ]
  },
  {
   "cell_type": "code",
   "execution_count": 0,
   "metadata": {
    "application/vnd.databricks.v1+cell": {
     "cellMetadata": {
      "byteLimit": 2048000,
      "rowLimit": 10000
     },
     "inputWidgets": {},
     "nuid": "43888d9e-2584-4690-9c5e-43458a856475",
     "showTitle": false,
     "tableResultSettingsMap": {},
     "title": ""
    }
   },
   "outputs": [],
   "source": [
    "%run \"./Transform\""
   ]
  },
  {
   "cell_type": "code",
   "execution_count": 0,
   "metadata": {
    "application/vnd.databricks.v1+cell": {
     "cellMetadata": {
      "byteLimit": 2048000,
      "rowLimit": 10000
     },
     "inputWidgets": {},
     "nuid": "dd7c22c4-fc67-4c07-a2e0-7c942d63f20a",
     "showTitle": false,
     "tableResultSettingsMap": {},
     "title": ""
    }
   },
   "outputs": [],
   "source": [
    "%run \"./Load\""
   ]
  },
  {
   "cell_type": "code",
   "execution_count": 0,
   "metadata": {
    "application/vnd.databricks.v1+cell": {
     "cellMetadata": {
      "byteLimit": 2048000,
      "rowLimit": 10000
     },
     "inputWidgets": {},
     "nuid": "9e5e8027-57c9-4434-90b3-112681f76d84",
     "showTitle": false,
     "tableResultSettingsMap": {},
     "title": ""
    }
   },
   "outputs": [
    {
     "output_type": "stream",
     "name": "stdout",
     "output_type": "stream",
     "text": [
      "Out[138]: True"
     ]
    }
   ],
   "source": [
    "class WorkFlow:\n",
    "\n",
    "  def __init__(self, file_path):\n",
    "    self.file_path = file_path\n",
    "\n",
    "  def workflow_runner(self):\n",
    "    # Extract Data & Display\n",
    "    input_df = Extract(self.file_path).extract_data()\n",
    "\n",
    "    #Transformed Data & Display\n",
    "    transform = Transform(input_df)\n",
    "\n",
    "    treatment_type_success_rate_df = transform.treatment_type_success_rate()\n",
    "\n",
    "    treatment_duration_df = transform.treatment_duration_treatment_type()\n",
    "\n",
    "    treatment_disease_total_cost_df = transform.treatment_cost_by_disease_name()\n",
    "\n",
    "    success_rate_age_df = transform.success_rate_by_age()\n",
    "   \n",
    "    deceased_count_by_disease_df = transform.disease_deceased_count()\n",
    "\n",
    "\n",
    "    # Load the data\n",
    "    load = Load()\n",
    "    \n",
    "    load.load_data_success_rate(treatment_type_success_rate_df)\n",
    "\n",
    "    load.load_data_treatment_duration(treatment_duration_df)\n",
    "\n",
    "    load.load_data_treatment_cost(treatment_disease_total_cost_df)\n",
    "\n",
    "    load.load_data_success_rate_by_age(success_rate_age_df)\n",
    "\n",
    "    load.load_data_disease_deceased_count(deceased_count_by_disease_df)\n",
    "\n",
    "file_path = \"dbfs:/FileStore/healthcare_treatments.csv\"\n",
    "work = WorkFlow(file_path)\n",
    "work.workflow_runner()\n"
   ]
  }
 ],
 "metadata": {
  "application/vnd.databricks.v1+notebook": {
   "computePreferences": null,
   "dashboards": [],
   "environmentMetadata": {
    "base_environment": "",
    "client": "1"
   },
   "language": "python",
   "notebookMetadata": {
    "pythonIndentUnit": 4
   },
   "notebookName": "Workflow",
   "widgets": {}
  }
 },
 "nbformat": 4,
 "nbformat_minor": 0
}
