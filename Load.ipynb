{
 "cells": [
  {
   "cell_type": "code",
   "execution_count": 0,
   "metadata": {
    "application/vnd.databricks.v1+cell": {
     "cellMetadata": {
      "byteLimit": 2048000,
      "rowLimit": 10000
     },
     "inputWidgets": {},
     "nuid": "4dcab9fb-f73a-459f-9f2a-e61e9c799673",
     "showTitle": false,
     "tableResultSettingsMap": {},
     "title": ""
    }
   },
   "outputs": [],
   "source": [
    "dbutils.fs.mkdirs(\"dbfs:/mnt/HealthcareKPI\")\n"
   ]
  },
  {
   "cell_type": "code",
   "execution_count": 0,
   "metadata": {
    "application/vnd.databricks.v1+cell": {
     "cellMetadata": {
      "byteLimit": 2048000,
      "rowLimit": 10000
     },
     "inputWidgets": {},
     "nuid": "16b3d8b3-8c76-450a-b274-110009682928",
     "showTitle": false,
     "tableResultSettingsMap": {},
     "title": ""
    }
   },
   "outputs": [],
   "source": [
    "class Load:\n",
    "\n",
    "    DBFS_BASE_PATH = \"dbfs:/mnt/HealthcareKPI\"\n",
    "\n",
    "    def load_data_success_rate(self, treatment_type_success_rate_df):\n",
    "        treatment_type_success_rate_df.write.parquet(f\"{self.DBFS_BASE_PATH}/treatment_type_success_rate.parquet\")\n",
    "    \n",
    "    def load_data_treatment_duration(self, treatment_duration_treatment_type):\n",
    "        treatment_duration_treatment_type.write.parquet(f\"{self.DBFS_BASE_PATH}/treatment_duration_treatment_type.parquet\")\n",
    "\n",
    "    def load_data_treatment_cost(self, treatment_cost_by_disease_name):\n",
    "        treatment_cost_by_disease_name.write.parquet(f\"{self.DBFS_BASE_PATH}/treatment_cost_by_disease_name.parquet\")\n",
    "    \n",
    "    def load_data_success_rate_by_age(self, success_rate_by_age):\n",
    "        success_rate_by_age.write.parquet(f\"{self.DBFS_BASE_PATH}/success_rate_by_age.parquet\")\n",
    "    \n",
    "    def load_data_disease_deceased_count(self, disease_deceased_count):\n",
    "        disease_deceased_count.write.parquet(f\"{self.DBFS_BASE_PATH}/disease_deceased_count.parquet\")\n"
   ]
  }
 ],
 "metadata": {
  "application/vnd.databricks.v1+notebook": {
   "computePreferences": null,
   "dashboards": [],
   "environmentMetadata": {
    "base_environment": "",
    "client": "1"
   },
   "language": "python",
   "notebookMetadata": {
    "pythonIndentUnit": 4
   },
   "notebookName": "Load",
   "widgets": {}
  }
 },
 "nbformat": 4,
 "nbformat_minor": 0
}
