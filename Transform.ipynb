{
 "cells": [
  {
   "cell_type": "code",
   "execution_count": 0,
   "metadata": {
    "application/vnd.databricks.v1+cell": {
     "cellMetadata": {
      "byteLimit": 2048000,
      "rowLimit": 10000
     },
     "inputWidgets": {},
     "nuid": "79666ca3-3e2a-4798-a76a-738d034e73d0",
     "showTitle": false,
     "tableResultSettingsMap": {},
     "title": ""
    }
   },
   "outputs": [],
   "source": [
    "from pyspark.sql.functions import col, lit, round\n",
    "from pyspark.sql.types import IntegerType\n",
    "from pyspark.sql import DataFrame\n"
   ]
  },
  {
   "cell_type": "code",
   "execution_count": 0,
   "metadata": {
    "application/vnd.databricks.v1+cell": {
     "cellMetadata": {
      "byteLimit": 2048000,
      "rowLimit": 10000
     },
     "inputWidgets": {},
     "nuid": "b9d4f2c7-e268-4289-b592-62ebfe453b3a",
     "showTitle": false,
     "tableResultSettingsMap": {},
     "title": ""
    }
   },
   "outputs": [],
   "source": [
    "class Transform:\n",
    "\n",
    "    def __init__(self, input_df):\n",
    "        self.input_df = input_df\n",
    "\n",
    "    # What is the treatment success rate by treatment type?\n",
    "    def treatment_type_success_rate(self)-> DataFrame:\n",
    "        total_patients_df = self.input_df.groupBy(\"treatment_type\").count().withColumnRenamed(\"count\", \"total_patients\")\n",
    "\n",
    "        treatment_data = self.input_df\\\n",
    "                        .groupBy(\"treatment_type\", \"treatment_outcome_status\")\\\n",
    "                        .count()\\\n",
    "                        .withColumnRenamed(\"count\", \"count_of_patients\")\n",
    "\n",
    "        joined_df = treatment_data.alias(\"t\") \\\n",
    "                                 .join(total_patients_df.alias(\"tp\"), col(\"t.treatment_type\") == col(\"tp.treatment_type\"), \"inner\") \\\n",
    "                                 .select(\n",
    "                                            col(\"t.treatment_type\"),\n",
    "                                            col(\"t.treatment_outcome_status\"),\n",
    "                                            col(\"t.count_of_patients\"),\n",
    "                                            col(\"tp.total_patients\")\n",
    "                                        )\n",
    "\n",
    "        success_df = joined_df.withColumn(\"success_rate\", round((col(\"count_of_patients\")/col(\"total_patients\"))*100, 2))\\\n",
    "                            .filter(col(\"t.treatment_outcome_status\") == \"successful\")\n",
    "        \n",
    "        return success_df\n",
    "    \n",
    "    # What is the treatment duration by disease type?\n",
    "    def treatment_duration_treatment_type(self)-> DataFrame:\n",
    "        treatment_df = self.input_df.withColumn(\"treatment_duration\", col(\"treatment_duration\").cast(IntegerType()))\\\n",
    "                          .groupBy(\"treatment_type\").sum(\"treatment_duration\").alias(\"total_duration\")\n",
    "\n",
    "        return treatment_df\n",
    "    \n",
    "    #What is the average treatment cost by health condition (disease name)?\n",
    "    def treatment_cost_by_disease_name(self)-> DataFrame:\n",
    "\n",
    "        treatment_disease_cost_df = self.input_df.withColumn(\"treatment_cost\", col(\"treatment_cost\").cast(IntegerType()))\\\n",
    "                                        .groupBy(\"disease_name\")\\\n",
    "                                        .sum(\"treatment_cost\").alias(\"total_treatment_cost\")\n",
    "    \n",
    "        return treatment_disease_cost_df\n",
    "    \n",
    "    # What is the success rate of treatments by age group?\n",
    "    def success_rate_by_age(self)-> DataFrame:\n",
    "\n",
    "        success_rate_df = self.input_df.groupBy(\"disease_name\", \"age\", \"treatment_outcome_status\")\\\n",
    "                                      .count()\n",
    "        \n",
    "        success_rate_age = success_rate_df.filter(col(\"treatment_outcome_status\") == \"successful\").orderBy(\"age\")\n",
    "        \n",
    "        return success_rate_age\n",
    "    # What is the total count of the deceased outcome by disease type?\n",
    "\n",
    "    def disease_deceased_count(self)-> DataFrame:\n",
    "\n",
    "        deceased_count_df = self.input_df.groupBy(\"disease_name\", \"treatment_outcome_status\")\\\n",
    "                                        .count()\n",
    "        \n",
    "        deceased_count = deceased_count_df.filter(col(\"treatment_outcome_status\") == \"deceased\")\n",
    "\n",
    "        return deceased_count\n",
    "\n",
    "\n",
    "\n",
    "\n"
   ]
  }
 ],
 "metadata": {
  "application/vnd.databricks.v1+notebook": {
   "computePreferences": null,
   "dashboards": [],
   "environmentMetadata": {
    "base_environment": "",
    "client": "1"
   },
   "language": "python",
   "notebookMetadata": {
    "pythonIndentUnit": 4
   },
   "notebookName": "Transform",
   "widgets": {}
  }
 },
 "nbformat": 4,
 "nbformat_minor": 0
}
